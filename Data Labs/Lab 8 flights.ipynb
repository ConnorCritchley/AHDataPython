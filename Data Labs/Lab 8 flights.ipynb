{
 "cells": [
  {
   "cell_type": "markdown",
   "id": "c0cc22af-9024-4a19-9357-08919bc86252",
   "metadata": {},
   "source": [
    "# EDA Flight-Etiquete\n",
    "### 1) Ingest data"
   ]
  },
  {
   "cell_type": "code",
   "execution_count": 3,
   "id": "9fdd2760-6ffc-4ebf-bf6f-098808e255e1",
   "metadata": {},
   "outputs": [
    {
     "name": "stdout",
     "output_type": "stream",
     "text": [
      "<class 'pandas.core.frame.DataFrame'>\n",
      "Index: 1040 entries, 3436139758 to 3431729581\n",
      "Data columns (total 26 columns):\n",
      " #   Column                                                                                                                                    Non-Null Count  Dtype \n",
      "---  ------                                                                                                                                    --------------  ----- \n",
      " 0   How often do you travel by plane?                                                                                                         1040 non-null   object\n",
      " 1   Do you ever recline your seat when you fly?                                                                                               858 non-null    object\n",
      " 2   How tall are you?                                                                                                                         858 non-null    object\n",
      " 3   Do you have any children under 18?                                                                                                        851 non-null    object\n",
      " 4   In a row of three seats, who should get to use the two arm rests?                                                                         856 non-null    object\n",
      " 5   In a row of two seats, who should get to use the middle arm rest?                                                                         856 non-null    object\n",
      " 6   Who should have control over the window shade?                                                                                            856 non-null    object\n",
      " 7   Is itrude to move to an unsold seat on a plane?                                                                                           855 non-null    object\n",
      " 8   Generally speaking, is it rude to say more than a few words tothe stranger sitting next to you on a plane?                                855 non-null    object\n",
      " 9   On a 6 hour flight from NYC to LA, how many times is it acceptable to get up if you're not in an aisle seat?                              855 non-null    object\n",
      " 10  Under normal circumstances, does a person who reclines their seat during a flight have any obligation to the person sitting behind them?  854 non-null    object\n",
      " 11  Is itrude to recline your seat on a plane?                                                                                                854 non-null    object\n",
      " 12  Given the opportunity, would you eliminate the possibility of reclining seats on planes entirely?                                         854 non-null    object\n",
      " 13  Is it rude to ask someone to switch seats with you in order to be closer to friends?                                                      850 non-null    object\n",
      " 14  Is itrude to ask someone to switch seats with you in order to be closer to family?                                                        850 non-null    object\n",
      " 15  Is it rude to wake a passenger up if you are trying to go to the bathroom?                                                                850 non-null    object\n",
      " 16  Is itrude to wake a passenger up if you are trying to walk around?                                                                        850 non-null    object\n",
      " 17  In general, is itrude to bring a baby on a plane?                                                                                         849 non-null    object\n",
      " 18  In general, is it rude to knowingly bring unruly children on a plane?                                                                     849 non-null    object\n",
      " 19  Have you ever used personal electronics during take off or landing in violation of a flight attendant's direction?                        849 non-null    object\n",
      " 20  Have you ever smoked a cigarette in an airplane bathroom when it was against the rules?                                                   849 non-null    object\n",
      " 21  Gender                                                                                                                                    1007 non-null   object\n",
      " 22  Age                                                                                                                                       1007 non-null   object\n",
      " 23  Household Income                                                                                                                          826 non-null    object\n",
      " 24  Education                                                                                                                                 1001 non-null   object\n",
      " 25  Location (Census Region)                                                                                                                  998 non-null    object\n",
      "dtypes: object(26)\n",
      "memory usage: 219.4+ KB\n"
     ]
    }
   ],
   "source": [
    "import pandas as pd\n",
    "import numpy as np\n",
    "import seaborn as sns\n",
    "df = pd.read_csv(\"../../Data/flight/flying-etiquette.csv\", index_col='RespondentID')\n",
    "df.info()"
   ]
  },
  {
   "cell_type": "markdown",
   "id": "50f773b4-5f36-4705-b828-008aacbb6850",
   "metadata": {},
   "source": [
    "### 2) Data Prep"
   ]
  },
  {
   "cell_type": "code",
   "execution_count": 5,
   "id": "c5fed3fd-e828-46f3-9b9b-c020338704ef",
   "metadata": {},
   "outputs": [
    {
     "data": {
      "text/plain": [
       "RespondentID\n",
       "3436139758     NaN\n",
       "3434278696    75.0\n",
       "3434275578    68.0\n",
       "3434268208    71.0\n",
       "3434250245    67.0\n",
       "Name: Height(inches), dtype: float64"
      ]
     },
     "execution_count": 5,
     "metadata": {},
     "output_type": "execute_result"
    }
   ],
   "source": [
    "#Handling hiehgt column\n",
    "df['Height(inches)'] = df['How tall are you?']\n",
    "\n",
    "#func to convert height to total inches\n",
    "def height_to_inches(height):\n",
    "    if pd.isna(height):\n",
    "        return np.nan\n",
    "    if height == \"Under 5 ft.\":\n",
    "        return 5 * 12\n",
    "    if \"and above\" in height:\n",
    "        return 6 * 12 + 6\n",
    "    feet, inches = height.split(\"'\")\n",
    "    return int(feet) * 12 + int(inches.strip('\"'))\n",
    "\n",
    "#convert heights\n",
    "df['Height(inches)'] = df['Height(inches)'].apply(height_to_inches)\n",
    "df['Height(inches)'].head(5)"
   ]
  },
  {
   "cell_type": "code",
   "execution_count": 6,
   "id": "c2753f3f-c89d-4838-8779-310605515dcf",
   "metadata": {},
   "outputs": [],
   "source": [
    "#Checking duplicates, 29 found\n",
    "df = df.drop_duplicates()"
   ]
  },
  {
   "cell_type": "code",
   "execution_count": 7,
   "id": "cfb3c1d2-73b5-4589-b41a-1ed131624080",
   "metadata": {},
   "outputs": [],
   "source": [
    "#Null handling, most columns have 50-60, one with 90, drop goes from 1040 rows to 687\n",
    "#df = df.dropna()"
   ]
  },
  {
   "cell_type": "markdown",
   "id": "f8f5f550-9cea-4762-a057-9ed080210d05",
   "metadata": {},
   "source": [
    "## 3) Analysis"
   ]
  },
  {
   "cell_type": "code",
   "execution_count": 19,
   "id": "dc33620f-0378-40cd-aa92-288b59188d03",
   "metadata": {},
   "outputs": [
    {
     "data": {
      "text/plain": [
       "array([nan, '30-44', '18-29', '45-60', '> 60'], dtype=object)"
      ]
     },
     "execution_count": 19,
     "metadata": {},
     "output_type": "execute_result"
    }
   ],
   "source": [
    "df['Age'].unique()"
   ]
  }
 ],
 "metadata": {
  "kernelspec": {
   "display_name": "Python 3 (ipykernel)",
   "language": "python",
   "name": "python3"
  },
  "language_info": {
   "codemirror_mode": {
    "name": "ipython",
    "version": 3
   },
   "file_extension": ".py",
   "mimetype": "text/x-python",
   "name": "python",
   "nbconvert_exporter": "python",
   "pygments_lexer": "ipython3",
   "version": "3.12.2"
  }
 },
 "nbformat": 4,
 "nbformat_minor": 5
}
