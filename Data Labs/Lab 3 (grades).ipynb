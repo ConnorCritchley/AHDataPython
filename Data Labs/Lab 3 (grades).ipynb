{
 "cells": [
  {
   "cell_type": "code",
   "execution_count": 91,
   "id": "66f3c5e5-2843-4b60-b208-0da38a6aa92e",
   "metadata": {},
   "outputs": [
    {
     "data": {
      "text/html": [
       "<div>\n",
       "<style scoped>\n",
       "    .dataframe tbody tr th:only-of-type {\n",
       "        vertical-align: middle;\n",
       "    }\n",
       "\n",
       "    .dataframe tbody tr th {\n",
       "        vertical-align: top;\n",
       "    }\n",
       "\n",
       "    .dataframe thead th {\n",
       "        text-align: right;\n",
       "    }\n",
       "</style>\n",
       "<table border=\"1\" class=\"dataframe\">\n",
       "  <thead>\n",
       "    <tr style=\"text-align: right;\">\n",
       "      <th></th>\n",
       "      <th>Name</th>\n",
       "      <th>Math</th>\n",
       "      <th>Science</th>\n",
       "      <th>Reading</th>\n",
       "      <th>History</th>\n",
       "    </tr>\n",
       "  </thead>\n",
       "  <tbody>\n",
       "    <tr>\n",
       "      <th>0</th>\n",
       "      <td>Adam</td>\n",
       "      <td>11.0</td>\n",
       "      <td>9.0</td>\n",
       "      <td>16.0</td>\n",
       "      <td>13.5</td>\n",
       "    </tr>\n",
       "    <tr>\n",
       "      <th>1</th>\n",
       "      <td>Anna</td>\n",
       "      <td>12.0</td>\n",
       "      <td>11.0</td>\n",
       "      <td>8.5</td>\n",
       "      <td>10.0</td>\n",
       "    </tr>\n",
       "    <tr>\n",
       "      <th>2</th>\n",
       "      <td>James</td>\n",
       "      <td>11.0</td>\n",
       "      <td>18.0</td>\n",
       "      <td>11.5</td>\n",
       "      <td>9.0</td>\n",
       "    </tr>\n",
       "    <tr>\n",
       "      <th>3</th>\n",
       "      <td>Corey</td>\n",
       "      <td>7.0</td>\n",
       "      <td>15.5</td>\n",
       "      <td>11.0</td>\n",
       "      <td>14.0</td>\n",
       "    </tr>\n",
       "    <tr>\n",
       "      <th>4</th>\n",
       "      <td>Alisha</td>\n",
       "      <td>9.5</td>\n",
       "      <td>12.0</td>\n",
       "      <td>10.5</td>\n",
       "      <td>14.0</td>\n",
       "    </tr>\n",
       "  </tbody>\n",
       "</table>\n",
       "</div>"
      ],
      "text/plain": [
       "     Name  Math  Science  Reading  History\n",
       "0    Adam  11.0      9.0     16.0     13.5\n",
       "1    Anna  12.0     11.0      8.5     10.0\n",
       "2   James  11.0     18.0     11.5      9.0\n",
       "3   Corey   7.0     15.5     11.0     14.0\n",
       "4  Alisha   9.5     12.0     10.5     14.0"
      ]
     },
     "execution_count": 91,
     "metadata": {},
     "output_type": "execute_result"
    }
   ],
   "source": [
    "import pandas as pd\n",
    "df = pd.read_csv(\"../../Data/grades/student_grades_2024.csv\")\n",
    "df.head()"
   ]
  },
  {
   "cell_type": "code",
   "execution_count": 99,
   "id": "4579047d-081e-4d16-8c61-d1d1ea15a64d",
   "metadata": {},
   "outputs": [
    {
     "name": "stdout",
     "output_type": "stream",
     "text": [
      "Math       11.928571\n",
      "Science    14.214286\n",
      "Reading    10.785714\n",
      "History    11.428571\n",
      "dtype: float64\n",
      "The median for Math is: 11.0\n",
      "The mode for History is: 14.0\n"
     ]
    }
   ],
   "source": [
    "mean = df.mean(numeric_only=True)\n",
    "math_median = df['Math'].median()\n",
    "history_mode = df['History'].mode()\n",
    "print(f\"{mean}\\nThe median for Math is: {math_median}\\nThe mode for History is: {history_mode[0]}\")"
   ]
  },
  {
   "cell_type": "code",
   "execution_count": 58,
   "id": "d3674c9c-51cb-4eef-8eb7-d2fc0bb525c1",
   "metadata": {},
   "outputs": [
    {
     "data": {
      "text/html": [
       "<div>\n",
       "<style scoped>\n",
       "    .dataframe tbody tr th:only-of-type {\n",
       "        vertical-align: middle;\n",
       "    }\n",
       "\n",
       "    .dataframe tbody tr th {\n",
       "        vertical-align: top;\n",
       "    }\n",
       "\n",
       "    .dataframe thead th {\n",
       "        text-align: right;\n",
       "    }\n",
       "</style>\n",
       "<table border=\"1\" class=\"dataframe\">\n",
       "  <thead>\n",
       "    <tr style=\"text-align: right;\">\n",
       "      <th></th>\n",
       "      <th>Math</th>\n",
       "      <th>Science</th>\n",
       "      <th>Reading</th>\n",
       "      <th>History</th>\n",
       "    </tr>\n",
       "  </thead>\n",
       "  <tbody>\n",
       "    <tr>\n",
       "      <th>Math</th>\n",
       "      <td>1.000000</td>\n",
       "      <td>0.269494</td>\n",
       "      <td>-0.268562</td>\n",
       "      <td>-0.718358</td>\n",
       "    </tr>\n",
       "    <tr>\n",
       "      <th>Science</th>\n",
       "      <td>0.269494</td>\n",
       "      <td>1.000000</td>\n",
       "      <td>-0.527606</td>\n",
       "      <td>-0.358688</td>\n",
       "    </tr>\n",
       "    <tr>\n",
       "      <th>Reading</th>\n",
       "      <td>-0.268562</td>\n",
       "      <td>-0.527606</td>\n",
       "      <td>1.000000</td>\n",
       "      <td>0.206794</td>\n",
       "    </tr>\n",
       "    <tr>\n",
       "      <th>History</th>\n",
       "      <td>-0.718358</td>\n",
       "      <td>-0.358688</td>\n",
       "      <td>0.206794</td>\n",
       "      <td>1.000000</td>\n",
       "    </tr>\n",
       "  </tbody>\n",
       "</table>\n",
       "</div>"
      ],
      "text/plain": [
       "             Math   Science   Reading   History\n",
       "Math     1.000000  0.269494 -0.268562 -0.718358\n",
       "Science  0.269494  1.000000 -0.527606 -0.358688\n",
       "Reading -0.268562 -0.527606  1.000000  0.206794\n",
       "History -0.718358 -0.358688  0.206794  1.000000"
      ]
     },
     "execution_count": 58,
     "metadata": {},
     "output_type": "execute_result"
    }
   ],
   "source": [
    "correlation = df.iloc[:,1:].corr()\n",
    "correlation"
   ]
  },
  {
   "cell_type": "markdown",
   "id": "3e16c2a4-831b-4dcb-82d6-93bc83105576",
   "metadata": {},
   "source": [
    "The highest non-negative correlations are between math and science."
   ]
  },
  {
   "cell_type": "code",
   "execution_count": 86,
   "id": "36bc8ca9-b8b0-4459-8a41-99aa61cf3cb6",
   "metadata": {},
   "outputs": [
    {
     "name": "stdout",
     "output_type": "stream",
     "text": [
      "Mean is 59.47826086956522\n",
      "Median is 60.0\n",
      "Mode is 60\n",
      "Min is 5\n",
      "Max is 99\n",
      "Range is (5, 99)\n",
      "Variance is 694.3517786561265\n",
      "Standard Deviation is 26.350555566365703\n"
     ]
    }
   ],
   "source": [
    "grades = [24, 5, 15, 60, 54, 82, 99, 80, 70, 98, 93, 60, 33, 22, 65, 61, 51, 58, 83, 86, 42, 67, 60]\n",
    "grades = pd.Series(grades)\n",
    "\n",
    "def desc_stats():\n",
    "    print(f\"Mean is {grades.mean()}\")\n",
    "    print(f\"Median is {grades.median()}\")\n",
    "    print(f\"Mode is {grades.mode()[0]}\")\n",
    "    print(f\"Min is {grades.min()}\")\n",
    "    print(f\"Max is {grades.max()}\")\n",
    "    print(f\"Range is ({grades.min()}, {grades.max()})\")\n",
    "    print(f\"Variance is {grades.var()}\")\n",
    "    print(f\"Standard Deviation is {grades.std()}\")\n",
    "desc_stats()"
   ]
  },
  {
   "cell_type": "markdown",
   "id": "a96f2c62-97e7-40f9-b540-da112ec10e7c",
   "metadata": {},
   "source": [
    "I would curve personally, the mean is failing, by just a bit, and the median/mode are quite low as well. While the max is 99, there are only 3 90's overall. And 5 as the lowest is *really* low."
   ]
  }
 ],
 "metadata": {
  "kernelspec": {
   "display_name": "Python 3 (ipykernel)",
   "language": "python",
   "name": "python3"
  },
  "language_info": {
   "codemirror_mode": {
    "name": "ipython",
    "version": 3
   },
   "file_extension": ".py",
   "mimetype": "text/x-python",
   "name": "python",
   "nbconvert_exporter": "python",
   "pygments_lexer": "ipython3",
   "version": "3.12.2"
  }
 },
 "nbformat": 4,
 "nbformat_minor": 5
}
