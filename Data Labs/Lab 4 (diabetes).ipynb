{
 "cells": [
  {
   "cell_type": "markdown",
   "metadata": {
    "id": "_p9mrB0o45jA"
   },
   "source": [
    "# Pima Data cleaning\n",
    "\n"
   ]
  },
  {
   "cell_type": "code",
   "execution_count": 2,
   "metadata": {
    "id": "hLjevvKz45jC"
   },
   "outputs": [],
   "source": [
    "# Import Modules Here\n",
    "import pandas as pd\n",
    "from attrs.converters import to_bool"
   ]
  },
  {
   "cell_type": "markdown",
   "metadata": {
    "id": "2o2uuJPh45jC"
   },
   "source": [
    "## Part 1: Read the Data into Jupyter"
   ]
  },
  {
   "cell_type": "code",
   "execution_count": 4,
   "metadata": {
    "id": "mXWv2Orl45jD"
   },
   "outputs": [
    {
     "name": "stdout",
     "output_type": "stream",
     "text": [
      "<class 'pandas.core.frame.DataFrame'>\n",
      "RangeIndex: 1004 entries, 0 to 1003\n",
      "Data columns (total 9 columns):\n",
      " #   Column                    Non-Null Count  Dtype  \n",
      "---  ------                    --------------  -----  \n",
      " 0   Pregnancies               890 non-null    float64\n",
      " 1   Glucose                   988 non-null    float64\n",
      " 2   BloodPressure             982 non-null    object \n",
      " 3   SkinThickness             1004 non-null   int64  \n",
      " 4   Insulin                   1004 non-null   int64  \n",
      " 5   BMI                       1003 non-null   object \n",
      " 6   DiabetesPedigreeFunction  1004 non-null   float64\n",
      " 7   Age                       982 non-null    float64\n",
      " 8   Outcome                   1004 non-null   object \n",
      "dtypes: float64(4), int64(2), object(3)\n",
      "memory usage: 70.7+ KB\n"
     ]
    }
   ],
   "source": [
    "# Read the data into a dataframe named pima_df.\n",
    "df = pd.read_csv(\"../../Data/diabetes/diabetes_uncleaned_data.csv\")\n",
    "df.info()"
   ]
  },
  {
   "cell_type": "markdown",
   "metadata": {
    "id": "R99wMGND45jD"
   },
   "source": [
    "## Part 2: Missing Data"
   ]
  },
  {
   "cell_type": "code",
   "execution_count": 6,
   "metadata": {
    "id": "cbUYWUoF45jD"
   },
   "outputs": [
    {
     "data": {
      "text/plain": [
       "Pregnancies                 114\n",
       "Glucose                      16\n",
       "BloodPressure                22\n",
       "SkinThickness                 0\n",
       "Insulin                       0\n",
       "BMI                           1\n",
       "DiabetesPedigreeFunction      0\n",
       "Age                          22\n",
       "Outcome                       0\n",
       "dtype: int64"
      ]
     },
     "execution_count": 6,
     "metadata": {},
     "output_type": "execute_result"
    }
   ],
   "source": [
    "#Question 1:  Find Columns with missing data\n",
    "df.isna().sum()"
   ]
  },
  {
   "cell_type": "code",
   "execution_count": 7,
   "metadata": {
    "id": "a17SSULk45jD"
   },
   "outputs": [],
   "source": [
    "# Question 2:  Write code to remove rows with missing data and save the new dataframe as pima_missing_fixed_df\n",
    "pima_missing_fixed_df = df.dropna()"
   ]
  },
  {
   "cell_type": "code",
   "execution_count": 8,
   "metadata": {
    "id": "qTos4gtC45jE"
   },
   "outputs": [
    {
     "data": {
      "text/plain": [
       "840"
      ]
     },
     "execution_count": 8,
     "metadata": {},
     "output_type": "execute_result"
    }
   ],
   "source": [
    "# Question 3:  Print out the number of rows in the dataframe.\n",
    "len(pima_missing_fixed_df)"
   ]
  },
  {
   "cell_type": "markdown",
   "metadata": {
    "id": "OwT7Muyl45jE"
   },
   "source": [
    "### Question 4:  Discuss why missing data could be a problem.  What other methods could you use in this situation?\n",
    "\n",
    "Removing a full row of data due to one missing value is fairly obvious in how you lose more data than n/a values. In the event that there's a common column of N/A's, it's better to drop that column entirely first.\n",
    "\n",
    "Otherwise, instead of dropping, fill the n/a's with a mean or other calculated value that wouldn't induce too much error/bias."
   ]
  },
  {
   "cell_type": "markdown",
   "metadata": {
    "id": "tNBYCmZV45jE"
   },
   "source": [
    "## Part 3: Duplicated Data"
   ]
  },
  {
   "cell_type": "code",
   "execution_count": 11,
   "metadata": {
    "id": "AIxDQIkv45jE"
   },
   "outputs": [
    {
     "data": {
      "text/html": [
       "<div>\n",
       "<style scoped>\n",
       "    .dataframe tbody tr th:only-of-type {\n",
       "        vertical-align: middle;\n",
       "    }\n",
       "\n",
       "    .dataframe tbody tr th {\n",
       "        vertical-align: top;\n",
       "    }\n",
       "\n",
       "    .dataframe thead th {\n",
       "        text-align: right;\n",
       "    }\n",
       "</style>\n",
       "<table border=\"1\" class=\"dataframe\">\n",
       "  <thead>\n",
       "    <tr style=\"text-align: right;\">\n",
       "      <th></th>\n",
       "      <th>Pregnancies</th>\n",
       "      <th>Glucose</th>\n",
       "      <th>BloodPressure</th>\n",
       "      <th>SkinThickness</th>\n",
       "      <th>Insulin</th>\n",
       "      <th>BMI</th>\n",
       "      <th>DiabetesPedigreeFunction</th>\n",
       "      <th>Age</th>\n",
       "      <th>Outcome</th>\n",
       "    </tr>\n",
       "  </thead>\n",
       "  <tbody>\n",
       "    <tr>\n",
       "      <th>925</th>\n",
       "      <td>6.0</td>\n",
       "      <td>39.0</td>\n",
       "      <td>46</td>\n",
       "      <td>2</td>\n",
       "      <td>287</td>\n",
       "      <td>40.4</td>\n",
       "      <td>2.394</td>\n",
       "      <td>60.0</td>\n",
       "      <td>TRUE</td>\n",
       "    </tr>\n",
       "    <tr>\n",
       "      <th>926</th>\n",
       "      <td>10.0</td>\n",
       "      <td>67.0</td>\n",
       "      <td>39</td>\n",
       "      <td>12</td>\n",
       "      <td>168</td>\n",
       "      <td>53.4</td>\n",
       "      <td>0.162</td>\n",
       "      <td>71.0</td>\n",
       "      <td>FALSE</td>\n",
       "    </tr>\n",
       "    <tr>\n",
       "      <th>999</th>\n",
       "      <td>6.0</td>\n",
       "      <td>110.0</td>\n",
       "      <td>26</td>\n",
       "      <td>27</td>\n",
       "      <td>590</td>\n",
       "      <td>20.8</td>\n",
       "      <td>1.185</td>\n",
       "      <td>95.0</td>\n",
       "      <td>FALSE</td>\n",
       "    </tr>\n",
       "    <tr>\n",
       "      <th>1003</th>\n",
       "      <td>6.0</td>\n",
       "      <td>151.0</td>\n",
       "      <td>60</td>\n",
       "      <td>26</td>\n",
       "      <td>362</td>\n",
       "      <td>43.4</td>\n",
       "      <td>2.027</td>\n",
       "      <td>23.0</td>\n",
       "      <td>FALSE</td>\n",
       "    </tr>\n",
       "  </tbody>\n",
       "</table>\n",
       "</div>"
      ],
      "text/plain": [
       "      Pregnancies  Glucose BloodPressure  SkinThickness  Insulin   BMI  \\\n",
       "925           6.0     39.0            46              2      287  40.4   \n",
       "926          10.0     67.0            39             12      168  53.4   \n",
       "999           6.0    110.0            26             27      590  20.8   \n",
       "1003          6.0    151.0            60             26      362  43.4   \n",
       "\n",
       "      DiabetesPedigreeFunction   Age Outcome  \n",
       "925                      2.394  60.0    TRUE  \n",
       "926                      0.162  71.0   FALSE  \n",
       "999                      1.185  95.0   FALSE  \n",
       "1003                     2.027  23.0   FALSE  "
      ]
     },
     "execution_count": 11,
     "metadata": {},
     "output_type": "execute_result"
    }
   ],
   "source": [
    "# Question 1: find the rows of duplicated data in the\n",
    "# pima_missing_fixed_df and print them.\n",
    "pima_missing_fixed_df[pima_missing_fixed_df.duplicated()]"
   ]
  },
  {
   "cell_type": "code",
   "execution_count": 12,
   "metadata": {
    "id": "BQtBEJfC45jE"
   },
   "outputs": [],
   "source": [
    "# Question 2: Write code to remove duplicate rows\n",
    "# and save the new dataframe as pima_missing_fixed_df\n",
    "pima_missing_fixed_df = pima_missing_fixed_df.drop_duplicates()"
   ]
  },
  {
   "cell_type": "code",
   "execution_count": 13,
   "metadata": {
    "id": "vIwC55_S45jF"
   },
   "outputs": [
    {
     "data": {
      "text/plain": [
       "836"
      ]
     },
     "execution_count": 13,
     "metadata": {},
     "output_type": "execute_result"
    }
   ],
   "source": [
    "# Question 3:  Print out the number of rows in the dataframe.\n",
    "len(pima_missing_fixed_df)"
   ]
  },
  {
   "cell_type": "markdown",
   "metadata": {
    "id": "MITfGUDi45jF"
   },
   "source": [
    "### Question 4:  In your jupyter notebook, discuss why duplicate data could be a problem.\n",
    "### What other methods could you use in this situation?\n",
    "\n",
    "Duplicate data can cause issues by giving more weight to one instance of data than it has in reality. If something that happens once is recorded three times, it still only happened once despite three records of it.\n",
    "\n",
    "As far as other methods, it might be useful to go in an define exactly what duplicate data is, allowing for you to control if something is truly unique or not."
   ]
  },
  {
   "cell_type": "markdown",
   "metadata": {
    "id": "u0pcx72F45jF"
   },
   "source": [
    "## Part 4: Mis-typed Columns/Broken Data\n"
   ]
  },
  {
   "cell_type": "code",
   "execution_count": 16,
   "metadata": {
    "id": "XY6W7kYT45jF"
   },
   "outputs": [],
   "source": [
    "# Question 1: find the columns where most of the data seems to be one type of data, and there seems to be a data error. In the markdown, after exploring in code, add a markdown cell discussing which columns have the data error."
   ]
  },
  {
   "cell_type": "markdown",
   "metadata": {},
   "source": [
    "Regarding type issues spawned from 'error' being found within the columns, there are three columns affected.\n",
    "\n",
    "Blood pressure is better off as an int, bmi as floats, while outcome should be a boolean."
   ]
  },
  {
   "cell_type": "code",
   "execution_count": 18,
   "metadata": {
    "id": "0GOtka8I45jF"
   },
   "outputs": [
    {
     "data": {
      "text/plain": [
       "833"
      ]
     },
     "execution_count": 18,
     "metadata": {},
     "output_type": "execute_result"
    }
   ],
   "source": [
    "# Question 2: Remove the rows with data errors\n",
    "pima_missing_fixed_df = pima_missing_fixed_df.drop(pima_missing_fixed_df[pima_missing_fixed_df['BloodPressure'] == 'Error'].index)\n",
    "pima_missing_fixed_df = pima_missing_fixed_df.drop(pima_missing_fixed_df[pima_missing_fixed_df['BMI'] == 'Error'].index)\n",
    "pima_missing_fixed_df = pima_missing_fixed_df.drop(pima_missing_fixed_df[pima_missing_fixed_df['Outcome'] == 'Error'].index)\n",
    "len(pima_missing_fixed_df)"
   ]
  },
  {
   "cell_type": "code",
   "execution_count": 19,
   "metadata": {
    "id": "UePaIZv245jF"
   },
   "outputs": [],
   "source": [
    "# Question 3: After the data is fixed in your columns change the columns to the correct type and save this as the pima_fixed_columns_df.\n",
    "pima_missing_fixed_df = pima_missing_fixed_df.astype({'BloodPressure': 'int64'})\n",
    "pima_missing_fixed_df = pima_missing_fixed_df.astype({'BMI': 'float64'})\n",
    "pima_missing_fixed_df['Outcome'] = pima_missing_fixed_df['Outcome'].apply(lambda x: True if x == 'TRUE' else False)\n",
    "pima_fixed_columns_df = pima_missing_fixed_df"
   ]
  },
  {
   "cell_type": "code",
   "execution_count": 20,
   "metadata": {
    "id": "I53gkvL345jG"
   },
   "outputs": [
    {
     "name": "stdout",
     "output_type": "stream",
     "text": [
      "<class 'pandas.core.frame.DataFrame'>\n",
      "Index: 833 entries, 0 to 1001\n",
      "Data columns (total 9 columns):\n",
      " #   Column                    Non-Null Count  Dtype  \n",
      "---  ------                    --------------  -----  \n",
      " 0   Pregnancies               833 non-null    float64\n",
      " 1   Glucose                   833 non-null    float64\n",
      " 2   BloodPressure             833 non-null    int64  \n",
      " 3   SkinThickness             833 non-null    int64  \n",
      " 4   Insulin                   833 non-null    int64  \n",
      " 5   BMI                       833 non-null    float64\n",
      " 6   DiabetesPedigreeFunction  833 non-null    float64\n",
      " 7   Age                       833 non-null    float64\n",
      " 8   Outcome                   833 non-null    bool   \n",
      "dtypes: bool(1), float64(5), int64(3)\n",
      "memory usage: 59.4 KB\n"
     ]
    }
   ],
   "source": [
    "# Question 4: Run pima_fixed_columns_df.info() to confirm the columns have changed.\n",
    "pima_fixed_columns_df.info()"
   ]
  },
  {
   "cell_type": "markdown",
   "metadata": {
    "id": "swCDsptl45jG"
   },
   "source": [
    "## Part 5: Outlier Detection and Removal\n"
   ]
  },
  {
   "cell_type": "code",
   "execution_count": 22,
   "metadata": {
    "id": "dY3Lw4n345jG"
   },
   "outputs": [
    {
     "name": "stdout",
     "output_type": "stream",
     "text": [
      "   Pregnancies  Glucose  BloodPressure  SkinThickness  Insulin   BMI  \\\n",
      "5       -100.0    142.0             88             39       82  42.7   \n",
      "\n",
      "   DiabetesPedigreeFunction    Age  Outcome  \n",
      "5                     1.369  148.0     True  \n",
      "Empty DataFrame\n",
      "Columns: [Pregnancies, Glucose, BloodPressure, SkinThickness, Insulin, BMI, DiabetesPedigreeFunction, Age, Outcome]\n",
      "Index: []\n",
      "     Pregnancies  Glucose  BloodPressure  SkinThickness  Insulin   BMI  \\\n",
      "649          3.0    155.0          10000             35      748  32.6   \n",
      "995          5.0     62.0          10000             13      412  48.7   \n",
      "\n",
      "     DiabetesPedigreeFunction    Age  Outcome  \n",
      "649                     0.098   85.0     True  \n",
      "995                     0.267  101.0    False  \n",
      "Empty DataFrame\n",
      "Columns: [Pregnancies, Glucose, BloodPressure, SkinThickness, Insulin, BMI, DiabetesPedigreeFunction, Age, Outcome]\n",
      "Index: []\n",
      "   Pregnancies  Glucose  BloodPressure  SkinThickness  Insulin  BMI  \\\n",
      "1         13.0    151.0            107             38    10000  9.2   \n",
      "\n",
      "   DiabetesPedigreeFunction    Age  Outcome  \n",
      "1                     0.507  148.0    False  \n",
      "Empty DataFrame\n",
      "Columns: [Pregnancies, Glucose, BloodPressure, SkinThickness, Insulin, BMI, DiabetesPedigreeFunction, Age, Outcome]\n",
      "Index: []\n",
      "Empty DataFrame\n",
      "Columns: [Pregnancies, Glucose, BloodPressure, SkinThickness, Insulin, BMI, DiabetesPedigreeFunction, Age, Outcome]\n",
      "Index: []\n",
      "Empty DataFrame\n",
      "Columns: [Pregnancies, Glucose, BloodPressure, SkinThickness, Insulin, BMI, DiabetesPedigreeFunction, Age, Outcome]\n",
      "Index: []\n"
     ]
    }
   ],
   "source": [
    "# Question 1: Print out the Outliers in each column in the pima_fixed_columns_df dataframe, use the IQR method of outlier detection.\n",
    "def is_outlier(column: pd.Series):\n",
    "    Q1 = column.quantile(0.25)\n",
    "    Q3 = column.quantile(0.75)\n",
    "    IQR = Q3 - Q1\n",
    "    lower_bound = Q1 - 1.5 * IQR\n",
    "    upper_bound = Q3 + 1.5 * IQR\n",
    "    return ~column.between(lower_bound, upper_bound)\n",
    "\n",
    "for column in pima_fixed_columns_df.columns[:-1]:\n",
    "    print(pima_fixed_columns_df[is_outlier(pima_fixed_columns_df[column])])"
   ]
  },
  {
   "cell_type": "code",
   "execution_count": 42,
   "metadata": {
    "id": "5KJS7ul145jG"
   },
   "outputs": [],
   "source": [
    "# Question 2: Use loc to remove outliers in each of the columns that have outliers, save this as pima_outlier_removed_df.\n",
    "for column in pima_fixed_columns_df.columns[:-1]:\n",
    "    pima_fixed_columns_df = pima_fixed_columns_df.drop(pima_fixed_columns_df[is_outlier(pima_fixed_columns_df[column])].index)\n",
    "pima_outlier_removed_df = pima_fixed_columns_df"
   ]
  },
  {
   "cell_type": "code",
   "execution_count": 40,
   "metadata": {
    "id": "mym-knIi45jG"
   },
   "outputs": [
    {
     "data": {
      "text/plain": [
       "829"
      ]
     },
     "execution_count": 40,
     "metadata": {},
     "output_type": "execute_result"
    }
   ],
   "source": [
    "# Question 3:  Print out the row count in the pima_outlier_removed_df and confirm this number is correct.\n",
    "len(pima_outlier_removed_df)"
   ]
  }
 ],
 "metadata": {
  "colab": {
   "provenance": [
    {
     "file_id": "1I8RIhuR2GECorV0ZwuD7nlJz0FHf8g_F",
     "timestamp": 1719461469986
    }
   ]
  },
  "kernelspec": {
   "display_name": "Python 3 (ipykernel)",
   "language": "python",
   "name": "python3"
  },
  "language_info": {
   "codemirror_mode": {
    "name": "ipython",
    "version": 3
   },
   "file_extension": ".py",
   "mimetype": "text/x-python",
   "name": "python",
   "nbconvert_exporter": "python",
   "pygments_lexer": "ipython3",
   "version": "3.12.2"
  }
 },
 "nbformat": 4,
 "nbformat_minor": 4
}
